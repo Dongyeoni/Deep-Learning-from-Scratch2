{
 "cells": [
  {
   "cell_type": "markdown",
   "id": "dcb9e218-81c3-4034-8730-50430fdb4139",
   "metadata": {},
   "source": [
    "# Chapter1. 신경망 복습"
   ]
  },
  {
   "cell_type": "markdown",
   "id": "e059d62e-4dc5-4ada-a7e6-51d760f5b9db",
   "metadata": {},
   "source": [
    "## 1.1 수학과 파이썬 복습"
   ]
  },
  {
   "cell_type": "markdown",
   "id": "cef2e7ff-0e7a-44e4-abb7-4e15728f1c7f",
   "metadata": {},
   "source": [
    "### 1.1.1 벡터와 행렬"
   ]
  },
  {
   "cell_type": "markdown",
   "id": "cb18c32e-19b3-4c85-83b4-469054b90c95",
   "metadata": {},
   "source": [
    "* 벡터 : 크기와 방향을 가진 양\n",
    "* 행렬 : 숫자가 2차원 형태로 늘어선 것"
   ]
  },
  {
   "cell_type": "markdown",
   "id": "ea2bece7-e5f7-438f-9663-2387f3c2ea56",
   "metadata": {},
   "source": [
    "<img src=\"./images/1-1.png\" width=\"300\" height=\"300\"/>\n",
    "[1-1]"
   ]
  },
  {
   "cell_type": "markdown",
   "id": "4714418b-1f4c-4605-9b2a-d62d22a8fd91",
   "metadata": {},
   "source": [
    "* 텐서 : 벡터와 행렬을 확장하여 숫자 집합을 N차원으로 표현"
   ]
  },
  {
   "cell_type": "markdown",
   "id": "80da8479-8b51-4990-9887-58931fcf7a88",
   "metadata": {},
   "source": [
    "<img src=\"./images/1-2.png\" width=\"300\" height=\"300\"/>\n",
    "[1-2]"
   ]
  },
  {
   "cell_type": "code",
   "execution_count": 1,
   "id": "af36eb22-55ee-4ba7-80c4-92daaf300871",
   "metadata": {
    "tags": []
   },
   "outputs": [],
   "source": [
    "import numpy as np"
   ]
  },
  {
   "cell_type": "code",
   "execution_count": 2,
   "id": "703606d6-4a37-4848-889d-452c727cbc9c",
   "metadata": {
    "tags": []
   },
   "outputs": [],
   "source": [
    "x = np.array([1,2,3])"
   ]
  },
  {
   "cell_type": "code",
   "execution_count": 3,
   "id": "ce2029b0-0e40-4e77-b013-cb9158097732",
   "metadata": {
    "tags": []
   },
   "outputs": [
    {
     "data": {
      "text/plain": [
       "numpy.ndarray"
      ]
     },
     "execution_count": 3,
     "metadata": {},
     "output_type": "execute_result"
    }
   ],
   "source": [
    "x.__class__"
   ]
  },
  {
   "cell_type": "code",
   "execution_count": 4,
   "id": "7a7741af-ba1b-479d-8ea8-1d61153a5ce7",
   "metadata": {
    "tags": []
   },
   "outputs": [
    {
     "data": {
      "text/plain": [
       "(3,)"
      ]
     },
     "execution_count": 4,
     "metadata": {},
     "output_type": "execute_result"
    }
   ],
   "source": [
    "x.shape"
   ]
  },
  {
   "cell_type": "code",
   "execution_count": 5,
   "id": "3ce3b118-a9e8-44bb-a707-7338a25d2cc2",
   "metadata": {
    "tags": []
   },
   "outputs": [
    {
     "data": {
      "text/plain": [
       "1"
      ]
     },
     "execution_count": 5,
     "metadata": {},
     "output_type": "execute_result"
    }
   ],
   "source": [
    "x.ndim"
   ]
  },
  {
   "cell_type": "code",
   "execution_count": 6,
   "id": "b02c7f24-5d70-462e-a036-ab07ffd8d343",
   "metadata": {
    "tags": []
   },
   "outputs": [],
   "source": [
    "W = np.array([[1,2,3],[4,5,6]])"
   ]
  },
  {
   "cell_type": "code",
   "execution_count": 7,
   "id": "11f3b484-0dbd-411a-8766-f4b38e560e62",
   "metadata": {
    "tags": []
   },
   "outputs": [
    {
     "data": {
      "text/plain": [
       "(2, 3)"
      ]
     },
     "execution_count": 7,
     "metadata": {},
     "output_type": "execute_result"
    }
   ],
   "source": [
    "W.shape"
   ]
  },
  {
   "cell_type": "code",
   "execution_count": 8,
   "id": "431d5d82-716c-4b14-b47c-5b11f1f29948",
   "metadata": {
    "tags": []
   },
   "outputs": [
    {
     "data": {
      "text/plain": [
       "2"
      ]
     },
     "execution_count": 8,
     "metadata": {},
     "output_type": "execute_result"
    }
   ],
   "source": [
    "W.ndim"
   ]
  },
  {
   "cell_type": "markdown",
   "id": "1dead739-119e-40c3-bead-db2f3bef0866",
   "metadata": {},
   "source": [
    "### 1.1.2 행렬의 원소별 연산"
   ]
  },
  {
   "cell_type": "code",
   "execution_count": 9,
   "id": "5df2ed2a-738c-4b4f-8110-73371cc9e446",
   "metadata": {
    "tags": []
   },
   "outputs": [
    {
     "data": {
      "text/plain": [
       "array([[ 1,  3,  5],\n",
       "       [ 7,  9, 11]])"
      ]
     },
     "execution_count": 9,
     "metadata": {},
     "output_type": "execute_result"
    }
   ],
   "source": [
    "W = np.array([[1,2,3],[4,5,6]])\n",
    "X = np.array([[0,1,2],[3,4,5]])\n",
    "W + X"
   ]
  },
  {
   "cell_type": "code",
   "execution_count": 10,
   "id": "d4cb3c13-c0a9-4bad-a081-ee14d9547322",
   "metadata": {
    "tags": []
   },
   "outputs": [
    {
     "data": {
      "text/plain": [
       "array([[ 0,  2,  6],\n",
       "       [12, 20, 30]])"
      ]
     },
     "execution_count": 10,
     "metadata": {},
     "output_type": "execute_result"
    }
   ],
   "source": [
    "W * X # 행렬 같은 자리별 곱셈이 이뤄짐"
   ]
  },
  {
   "cell_type": "markdown",
   "id": "a0b5c40f-3d1d-435d-846b-afe475090e24",
   "metadata": {},
   "source": [
    "### 1.1.3 브로드캐스트"
   ]
  },
  {
   "cell_type": "code",
   "execution_count": 11,
   "id": "6e71868a-8ce1-46ba-90af-d16e2438b91c",
   "metadata": {
    "tags": []
   },
   "outputs": [
    {
     "data": {
      "text/plain": [
       "array([[10, 20],\n",
       "       [30, 40]])"
      ]
     },
     "execution_count": 11,
     "metadata": {},
     "output_type": "execute_result"
    }
   ],
   "source": [
    "A = np.array([[1,2],[3,4]])\n",
    "A * 10"
   ]
  },
  {
   "cell_type": "code",
   "execution_count": 12,
   "id": "57f23524-9028-4df0-8c97-db5e0127432d",
   "metadata": {
    "tags": []
   },
   "outputs": [],
   "source": [
    "A = np.array([[1,2],[3,4]])\n",
    "b = np.array([10, 20])"
   ]
  },
  {
   "cell_type": "code",
   "execution_count": 13,
   "id": "4e017f5b-3812-49be-8c4e-abe5b1545d57",
   "metadata": {
    "tags": []
   },
   "outputs": [
    {
     "data": {
      "text/plain": [
       "array([[10, 40],\n",
       "       [30, 80]])"
      ]
     },
     "execution_count": 13,
     "metadata": {},
     "output_type": "execute_result"
    }
   ],
   "source": [
    "A * b"
   ]
  },
  {
   "cell_type": "markdown",
   "id": "5806ac28-fdc1-4b23-912c-36686101001d",
   "metadata": {},
   "source": [
    "### 1.1.4 벡터의 내적과 행렬의 곱"
   ]
  },
  {
   "cell_type": "markdown",
   "id": "34b6c483-933b-40fe-9ef7-f293ec64cdd1",
   "metadata": {},
   "source": [
    "<img src=\"./images/1.1.png\" width=\"200\" height=\"200\"/>\n",
    "[1.1]"
   ]
  },
  {
   "cell_type": "markdown",
   "id": "592c631b-00dc-4753-a265-b7fc3b55e336",
   "metadata": {},
   "source": [
    "<img src=\"./images/1-5.png\" width=\"300\" height=\"300\"/>\n",
    "[1-5]"
   ]
  },
  {
   "cell_type": "code",
   "execution_count": 14,
   "id": "a5517a87-69b7-4334-b659-645d6c5aee52",
   "metadata": {
    "tags": []
   },
   "outputs": [
    {
     "data": {
      "text/plain": [
       "32"
      ]
     },
     "execution_count": 14,
     "metadata": {},
     "output_type": "execute_result"
    }
   ],
   "source": [
    "# 내적\n",
    "a = np.array([1,2,3])\n",
    "b = np.array([4,5,6])\n",
    "np.dot(a,b)"
   ]
  },
  {
   "cell_type": "code",
   "execution_count": 15,
   "id": "fe00966d-92d2-4d83-b1d4-cccad6dc4e46",
   "metadata": {
    "tags": []
   },
   "outputs": [
    {
     "data": {
      "text/plain": [
       "array([[19, 22],\n",
       "       [43, 50]])"
      ]
     },
     "execution_count": 15,
     "metadata": {},
     "output_type": "execute_result"
    }
   ],
   "source": [
    "# 행렬곱\n",
    "A = np.array([[1,2],[3,4]])\n",
    "B = np.array([[5,6],[7,8]])\n",
    "np.matmul(A,B) # matrix mul"
   ]
  },
  {
   "cell_type": "code",
   "execution_count": 16,
   "id": "840a2977-5f48-48d8-bae2-a52080d95c6b",
   "metadata": {
    "tags": []
   },
   "outputs": [
    {
     "data": {
      "text/plain": [
       "array([[19, 22],\n",
       "       [43, 50]])"
      ]
     },
     "execution_count": 16,
     "metadata": {},
     "output_type": "execute_result"
    }
   ],
   "source": [
    "np.dot(A,B) # matrix mul"
   ]
  },
  {
   "cell_type": "markdown",
   "id": "45c72604-8991-46d7-8956-eb8f99c259bb",
   "metadata": {},
   "source": [
    "#### 잠깐! (dot 과 matmul의 차이)"
   ]
  },
  {
   "cell_type": "markdown",
   "id": "9ac7aab0-0ab2-48a2-969d-629742c925af",
   "metadata": {},
   "source": [
    "* 2차원 이하의 행렬곱에서는 결과 동일\n",
    "* 3차원 이상의 행렬끼리 곱할 때 다른 결과를 보여줌\n",
    "* np.dot(a, b)는 a의 마지막 axis와 b의 마지막에서 두번째 axis끼리 곱한 결과를 반영하고, np.matmul(a, b)는 a의 마지막 두 axis 차원이 (n, k), b의 마지막 두 axis 차원이 (k, m) 일 때, 이 사이에서만 곱하여 (n, m) 차원이 되도록 반영\n"
   ]
  },
  {
   "cell_type": "code",
   "execution_count": 17,
   "id": "ca78a03e-4b5c-461c-8ebd-7f492c58f728",
   "metadata": {
    "tags": []
   },
   "outputs": [],
   "source": [
    "A = np.arange(2*3*4).reshape((2,3,4))\n",
    "B = np.arange(2*3*4).reshape((2,4,3))"
   ]
  },
  {
   "cell_type": "code",
   "execution_count": 18,
   "id": "cea43a86-98e7-4eed-8e4a-44f188b50460",
   "metadata": {
    "tags": []
   },
   "outputs": [
    {
     "data": {
      "text/plain": [
       "array([[[ 0,  1,  2,  3],\n",
       "        [ 4,  5,  6,  7],\n",
       "        [ 8,  9, 10, 11]],\n",
       "\n",
       "       [[12, 13, 14, 15],\n",
       "        [16, 17, 18, 19],\n",
       "        [20, 21, 22, 23]]])"
      ]
     },
     "execution_count": 18,
     "metadata": {},
     "output_type": "execute_result"
    }
   ],
   "source": [
    "A"
   ]
  },
  {
   "cell_type": "code",
   "execution_count": 19,
   "id": "ae0b9114-cad8-4fc3-8c12-7b7ced486fc4",
   "metadata": {
    "tags": []
   },
   "outputs": [
    {
     "data": {
      "text/plain": [
       "array([[[ 0,  1,  2],\n",
       "        [ 3,  4,  5],\n",
       "        [ 6,  7,  8],\n",
       "        [ 9, 10, 11]],\n",
       "\n",
       "       [[12, 13, 14],\n",
       "        [15, 16, 17],\n",
       "        [18, 19, 20],\n",
       "        [21, 22, 23]]])"
      ]
     },
     "execution_count": 19,
     "metadata": {},
     "output_type": "execute_result"
    }
   ],
   "source": [
    "B"
   ]
  },
  {
   "cell_type": "code",
   "execution_count": 20,
   "id": "714db266-095c-4dbb-837a-78d196f76696",
   "metadata": {
    "tags": []
   },
   "outputs": [
    {
     "data": {
      "text/plain": [
       "(2, 3, 2, 3)"
      ]
     },
     "execution_count": 20,
     "metadata": {},
     "output_type": "execute_result"
    }
   ],
   "source": [
    "np.dot(A,B).shape"
   ]
  },
  {
   "cell_type": "code",
   "execution_count": 21,
   "id": "201c8deb-dbd8-4830-8a8a-b5782e29bf53",
   "metadata": {
    "tags": []
   },
   "outputs": [
    {
     "data": {
      "text/plain": [
       "(2, 3, 3)"
      ]
     },
     "execution_count": 21,
     "metadata": {},
     "output_type": "execute_result"
    }
   ],
   "source": [
    "np.matmul(A,B).shape"
   ]
  },
  {
   "cell_type": "code",
   "execution_count": 22,
   "id": "f4edb8ef-4626-49bc-b4de-579678262a4e",
   "metadata": {
    "tags": []
   },
   "outputs": [
    {
     "data": {
      "text/plain": [
       "array([[[[  42,   48,   54],\n",
       "         [ 114,  120,  126]],\n",
       "\n",
       "        [[ 114,  136,  158],\n",
       "         [ 378,  400,  422]],\n",
       "\n",
       "        [[ 186,  224,  262],\n",
       "         [ 642,  680,  718]]],\n",
       "\n",
       "\n",
       "       [[[ 258,  312,  366],\n",
       "         [ 906,  960, 1014]],\n",
       "\n",
       "        [[ 330,  400,  470],\n",
       "         [1170, 1240, 1310]],\n",
       "\n",
       "        [[ 402,  488,  574],\n",
       "         [1434, 1520, 1606]]]])"
      ]
     },
     "execution_count": 22,
     "metadata": {},
     "output_type": "execute_result"
    }
   ],
   "source": [
    "np.dot(A,B)"
   ]
  },
  {
   "cell_type": "code",
   "execution_count": 23,
   "id": "fa3c90d0-5d63-40d5-b0bc-ea7d6c37bfdd",
   "metadata": {
    "tags": []
   },
   "outputs": [
    {
     "data": {
      "text/plain": [
       "array([[[  42,   48,   54],\n",
       "        [ 114,  136,  158],\n",
       "        [ 186,  224,  262]],\n",
       "\n",
       "       [[ 906,  960, 1014],\n",
       "        [1170, 1240, 1310],\n",
       "        [1434, 1520, 1606]]])"
      ]
     },
     "execution_count": 23,
     "metadata": {},
     "output_type": "execute_result"
    }
   ],
   "source": [
    "np.matmul(A,B)"
   ]
  },
  {
   "cell_type": "markdown",
   "id": "aa00f317-e380-458b-b56d-cbc7465b8464",
   "metadata": {},
   "source": [
    "### 1.1.5 행렬 형상 확인"
   ]
  },
  {
   "cell_type": "markdown",
   "id": "e5338232-700a-4c37-9b84-6a373a35a47e",
   "metadata": {},
   "source": [
    "<img src=\"./images/1-6.png\" width=\"400\" height=\"400\"/>\n",
    "[1-6]"
   ]
  },
  {
   "cell_type": "markdown",
   "id": "ff5b5a6e-5123-439b-b25d-f69ecb1e8e89",
   "metadata": {},
   "source": [
    "## 1.2 신경망의 추론"
   ]
  },
  {
   "cell_type": "markdown",
   "id": "cbfd1641-64b8-49bf-adce-91e81012cf81",
   "metadata": {},
   "source": [
    "### 1.2.1 신경망 추론 전체 그림"
   ]
  },
  {
   "cell_type": "markdown",
   "id": "14c383c4-877f-4bc2-abd5-57ba5301c3a0",
   "metadata": {},
   "source": [
    "<img src=\"./images/1-7.png\" width=\"300\" height=\"300\"/>\n",
    "[1-7]"
   ]
  },
  {
   "cell_type": "markdown",
   "id": "6133f96e-2db0-4e52-94ff-f236f15d1f30",
   "metadata": {},
   "source": [
    "* 완전연결계층 : 인전합는 츠으이 모든 뉴런과 연결되어 있는 신경망"
   ]
  },
  {
   "cell_type": "markdown",
   "id": "2fe4a44f-4386-4300-b3dd-8f2b0e85bc1e",
   "metadata": {},
   "source": [
    "#### (수식) 입력 데이터 : $(x_1, x_2)$ 가중치 : $w_{11}, w_{12}$ 편향 : $b_1$"
   ]
  },
  {
   "cell_type": "markdown",
   "id": "dd0524bb-13e5-4220-87dc-7c33eebac9ee",
   "metadata": {},
   "source": [
    "<img src=\"./images/1.2.png\" width=\"150\" height=\"150\"/>\n",
    "[1.2]"
   ]
  },
  {
   "cell_type": "markdown",
   "id": "527ae1b5-2afe-481d-afbb-363778848d72",
   "metadata": {},
   "source": [
    "(예시)"
   ]
  },
  {
   "cell_type": "markdown",
   "id": "76122c9f-0bfe-44fa-897e-e97a408ce867",
   "metadata": {},
   "source": [
    "<img src=\"./images/1.3.png\" width=\"400\" height=\"400\"/>\n",
    "[1.3]"
   ]
  },
  {
   "cell_type": "markdown",
   "id": "c5adc986-c9d9-4484-8d9b-4d412fd8f8a7",
   "metadata": {},
   "source": [
    "<img src=\"./images/1.4.png\" width=\"100\" height=\"100\"/>\n",
    "[1.4]"
   ]
  },
  {
   "cell_type": "markdown",
   "id": "706cef3e-fdb3-4997-90b5-b13a79556785",
   "metadata": {
    "tags": []
   },
   "source": [
    "#### (입력데이터가 1개)"
   ]
  },
  {
   "cell_type": "markdown",
   "id": "728b22a8-92d3-43b6-8956-c29efdc9d337",
   "metadata": {},
   "source": [
    "<img src=\"./images/1-8.png\" width=\"300\" height=\"300\"/>\n",
    "[1-8]"
   ]
  },
  {
   "cell_type": "markdown",
   "id": "8660811b-04a3-470d-872d-7e6232cbea2d",
   "metadata": {},
   "source": [
    "#### (1개의 입력데이터가 아니라 N개의 입력데이터라면)"
   ]
  },
  {
   "cell_type": "markdown",
   "id": "3593e9fa-04b0-435d-9bda-fe618c483e3c",
   "metadata": {},
   "source": [
    "<img src=\"./images/1-9.png\" width=\"300\" height=\"300\"/>\n",
    "[1-9]"
   ]
  },
  {
   "cell_type": "code",
   "execution_count": 24,
   "id": "a53efe68-19f7-4815-b139-ea3004c95034",
   "metadata": {
    "tags": []
   },
   "outputs": [],
   "source": [
    "## 완전연결계층 미니배치"
   ]
  },
  {
   "cell_type": "code",
   "execution_count": 25,
   "id": "34972e44-fec3-4d67-9e9d-457365b330aa",
   "metadata": {
    "tags": []
   },
   "outputs": [],
   "source": [
    "import numpy as np\n",
    "W1 = np.random.randn(2,4)\n",
    "b1 = np.random.randn(4)\n",
    "x = np.random.randn(10, 2)\n",
    "h = np.matmul(x, W1) + b1"
   ]
  },
  {
   "cell_type": "code",
   "execution_count": 26,
   "id": "77fcd985-883c-4318-b5d4-124d0e9ae435",
   "metadata": {
    "tags": []
   },
   "outputs": [
    {
     "data": {
      "text/plain": [
       "array([[ 0.17247735, -0.87835075,  0.11987837,  0.53045699],\n",
       "       [-0.90193738, -0.90952458,  0.11748406,  1.03878783],\n",
       "       [-0.58387496,  0.46201707,  0.39971208,  0.52296337],\n",
       "       [ 1.61608433,  2.44124176,  0.80042679, -1.03155437],\n",
       "       [ 2.29751267,  1.04216265,  0.50874278, -0.9734504 ],\n",
       "       [ 1.95074845,  2.65066869,  0.84244364, -1.24345136],\n",
       "       [-1.98853691, -0.68203101,  0.16858874,  1.48342002],\n",
       "       [ 1.93341007,  1.72898318,  0.65204453, -0.98820781],\n",
       "       [ 1.84447346,  2.7484224 ,  0.86304461, -1.22021244],\n",
       "       [-1.43411328, -0.32176902,  0.24094744,  1.12880906]])"
      ]
     },
     "execution_count": 26,
     "metadata": {},
     "output_type": "execute_result"
    }
   ],
   "source": [
    "h"
   ]
  },
  {
   "cell_type": "markdown",
   "id": "cea9dc7b-8cb4-4014-8069-cb22e31f5721",
   "metadata": {},
   "source": [
    "#### (완전연결계층에 의한 변환 : 선형 변환 / 비선형 효과 부여 : 활성화 함수)"
   ]
  },
  {
   "cell_type": "markdown",
   "id": "b53101bd-c62d-4b9f-b775-40906dc75238",
   "metadata": {
    "tags": []
   },
   "source": [
    "* 예시 \n",
    "    * 시그모이드 함수"
   ]
  },
  {
   "cell_type": "markdown",
   "id": "0d230a49-e391-4bc7-9857-db7ec90bb6a0",
   "metadata": {},
   "source": [
    "<img src=\"./images/1.5.png\" width=\"200\" height=\"200\"/>\n",
    "[1.5]"
   ]
  },
  {
   "cell_type": "markdown",
   "id": "1b072d18-6c04-4a1f-bdbe-2c080ea077a8",
   "metadata": {},
   "source": [
    "<img src=\"./images/1-10.png\" width=\"300\" height=\"300\"/>\n",
    "[1-10]"
   ]
  },
  {
   "cell_type": "code",
   "execution_count": 27,
   "id": "721aea0e-0fcb-4764-8ad5-06bb68430479",
   "metadata": {
    "tags": []
   },
   "outputs": [],
   "source": [
    "## 시그모이드 함수 구현"
   ]
  },
  {
   "cell_type": "code",
   "execution_count": 28,
   "id": "1d1fdb28-01df-49ae-91b2-5e970a20c830",
   "metadata": {
    "tags": []
   },
   "outputs": [],
   "source": [
    "def sigmoid(x):\n",
    "    return 1 / (1 + np.exp(-x))"
   ]
  },
  {
   "cell_type": "code",
   "execution_count": 29,
   "id": "ec072555-8146-4c66-8a50-afbdc31a73d3",
   "metadata": {
    "tags": []
   },
   "outputs": [],
   "source": [
    "a = sigmoid(h)"
   ]
  },
  {
   "cell_type": "code",
   "execution_count": 30,
   "id": "0571772c-8bc7-4a5f-b662-dfa7b6228d4a",
   "metadata": {
    "tags": []
   },
   "outputs": [
    {
     "data": {
      "text/plain": [
       "array([[0.54301276, 0.29351966, 0.52993375, 0.62958969],\n",
       "       [0.28865253, 0.28709713, 0.52933728, 0.73861605],\n",
       "       [0.35804145, 0.61349257, 0.59861848, 0.62784044],\n",
       "       [0.8342544 , 0.91991861, 0.69006577, 0.26278287],\n",
       "       [0.90867083, 0.73926707, 0.62451171, 0.2741933 ],\n",
       "       [0.87552823, 0.93405219, 0.69897962, 0.2238358 ],\n",
       "       [0.12041174, 0.33580815, 0.54204764, 0.8150886 ],\n",
       "       [0.87362638, 0.84928231, 0.65747105, 0.27126621],\n",
       "       [0.86347692, 0.93982419, 0.70329637, 0.22789907],\n",
       "       [0.1924586 , 0.42024468, 0.55994712, 0.75561905]])"
      ]
     },
     "execution_count": 30,
     "metadata": {},
     "output_type": "execute_result"
    }
   ],
   "source": [
    "a"
   ]
  },
  {
   "cell_type": "markdown",
   "id": "43c89ca9-a0fa-4104-9007-302e6066cfed",
   "metadata": {},
   "source": [
    "### 1.2.2 계층으로 클래스화 및 순전파 구현"
   ]
  },
  {
   "cell_type": "markdown",
   "id": "3b1f701a-d9ac-4aaa-bfd0-81a6a58c6392",
   "metadata": {},
   "source": [
    "* (구현 규칙)\n",
    "    * 모든 계층은 forward(), backward() 메서드를 가진다\n",
    "        * forward : 순전파 \n",
    "        * backward : 역전파\n",
    "    * 모든 계층은 인스턴스 변수인 params, grads를 가진다\n",
    "        * params : 가중치와 편향 등 매개변수 담는 리스트\n",
    "        * grads : params에 저장된 각 매개변수에 대응하여 해당 매개변수의 기울기를 보관하는 리스트"
   ]
  },
  {
   "cell_type": "markdown",
   "id": "16a87889-cf26-4c3a-b78f-8291e9378cef",
   "metadata": {},
   "source": [
    "#### (이 절에서는 순전파만 구현)"
   ]
  },
  {
   "cell_type": "code",
   "execution_count": 31,
   "id": "d919ec6b-8b6d-4e3f-9026-059a7eeb19da",
   "metadata": {
    "tags": []
   },
   "outputs": [],
   "source": [
    "# Sigmoid 계층 구현"
   ]
  },
  {
   "cell_type": "code",
   "execution_count": 32,
   "id": "2ed3c7e4-201c-4236-bf98-959b24a2ef4f",
   "metadata": {
    "tags": []
   },
   "outputs": [],
   "source": [
    "import numpy as np"
   ]
  },
  {
   "cell_type": "code",
   "execution_count": 33,
   "id": "1f22232c-b765-4583-884c-c3556938bfbf",
   "metadata": {
    "tags": []
   },
   "outputs": [],
   "source": [
    "class Sigmoid:\n",
    "    def __init__(self):\n",
    "        self.params = []\n",
    "    \n",
    "    def forward(self, x):\n",
    "        return 1 / (1 + np.exp(-x))"
   ]
  },
  {
   "cell_type": "code",
   "execution_count": 34,
   "id": "de15db48-7516-4226-960d-86338dafe4f5",
   "metadata": {
    "tags": []
   },
   "outputs": [],
   "source": [
    "class Affine:\n",
    "    def __init__(self, W, b):\n",
    "        self.params = [W, b]\n",
    "        \n",
    "    def forward(self, x):\n",
    "        W, b = self.params ### 리스트는 사이즈가 같을 때 각각의 번지의 값을 바로 넣을 수 있다\n",
    "        out = np.matmul(x,W) + b\n",
    "        return out"
   ]
  },
  {
   "cell_type": "markdown",
   "id": "5f031f13-b073-4aba-86ef-d24bdb5ef42a",
   "metadata": {},
   "source": [
    "<img src=\"./images/1-11.png\" width=\"400\" height=\"400\"/>\n",
    "[1-11]"
   ]
  },
  {
   "cell_type": "code",
   "execution_count": 35,
   "id": "0a8d427e-6744-4796-97c5-c9cec8147f90",
   "metadata": {
    "tags": []
   },
   "outputs": [],
   "source": [
    "class TwoLayerNet:\n",
    "    def __init__(self, input_size, hidden_size, output_size):\n",
    "        I, H, O = input_size, hidden_size, output_size\n",
    "        \n",
    "        # 가중치와 편향 초기화\n",
    "        W1 = np.random.randn(I,H)\n",
    "        b1 = np.random.randn(H)\n",
    "        W2 = np.random.randn(H,O)\n",
    "        b2 = np.random.randn(O)\n",
    "        \n",
    "        # 계층 생성\n",
    "        self.layers = [Affine(W1, b1), Sigmoid(), Affine(W2, b2)]\n",
    "        \n",
    "        # 모든 가중치를 리스트에 모은다\n",
    "        self.params = []\n",
    "        for layer in self.layers:\n",
    "            self.params += layer.params ## extend와 같은 듯\n",
    "            \n",
    "    def predict(self, x):\n",
    "        for layer in self.layers:\n",
    "            x = layer.forward(x)\n",
    "\n",
    "        return x"
   ]
  },
  {
   "cell_type": "code",
   "execution_count": 36,
   "id": "25157645-8e90-4423-bd41-7a708655d821",
   "metadata": {},
   "outputs": [],
   "source": [
    "### 리슽와 +"
   ]
  },
  {
   "cell_type": "code",
   "execution_count": 37,
   "id": "291fc58d-0d22-48e6-8158-4b5a2a31f509",
   "metadata": {
    "tags": []
   },
   "outputs": [
    {
     "data": {
      "text/plain": [
       "['A', 'B', 'C', 'D']"
      ]
     },
     "execution_count": 37,
     "metadata": {},
     "output_type": "execute_result"
    }
   ],
   "source": [
    "a = ['A', 'B']\n",
    "a += ['C', 'D']\n",
    "a"
   ]
  },
  {
   "cell_type": "code",
   "execution_count": 38,
   "id": "1435519c-e5e1-4bc9-9428-1e6154f771f4",
   "metadata": {
    "tags": []
   },
   "outputs": [],
   "source": [
    "x = np.random.randn(10,2)\n",
    "model = TwoLayerNet(2,4,3)\n",
    "s = model.predict(x)"
   ]
  },
  {
   "cell_type": "code",
   "execution_count": 39,
   "id": "d2ec19f8-902d-494e-9d90-cbc7f60e6bc8",
   "metadata": {
    "tags": []
   },
   "outputs": [
    {
     "data": {
      "text/plain": [
       "array([[ 0.18665613, -2.13251884,  3.32341811],\n",
       "       [-0.08278338, -1.60286795,  1.80344187],\n",
       "       [ 0.17543506, -2.37140632,  3.69759982],\n",
       "       [ 0.00885726, -1.98306677,  2.60798545],\n",
       "       [-0.08559552, -1.7223268 ,  1.98294111],\n",
       "       [-0.02795212, -1.73857919,  2.13984152],\n",
       "       [ 0.12572249, -1.95670015,  2.89112643],\n",
       "       [-0.10944917, -1.64132461,  1.82148649],\n",
       "       [ 0.06577315, -1.67970484,  2.23979903],\n",
       "       [ 0.07257299, -2.22791235,  3.16932172]])"
      ]
     },
     "execution_count": 39,
     "metadata": {},
     "output_type": "execute_result"
    }
   ],
   "source": [
    "s"
   ]
  },
  {
   "cell_type": "markdown",
   "id": "a720736f-a5eb-4d82-9cf4-ef5b9d6d5de6",
   "metadata": {},
   "source": [
    "## 1.3 신경망의 학습"
   ]
  },
  {
   "cell_type": "markdown",
   "id": "dda738a3-174a-4676-89a3-6e07754f5d57",
   "metadata": {},
   "source": [
    "### 1.3.1 손실 함수"
   ]
  },
  {
   "cell_type": "markdown",
   "id": "b32396c9-2f79-4dc5-b3a8-f92b65ab6971",
   "metadata": {},
   "source": [
    "* 손실 : 학습데이터와 신경망이 예측한 결과를 비교하여 예측이 얼마나 나쁜가를 산출한 스칼라 값\n",
    "* 손실 함수\n",
    "    * 다중 클래스 분류 : 교차 엔트로피 오차 등 이용"
   ]
  },
  {
   "cell_type": "markdown",
   "id": "74d3cdcd-c5c0-41bb-ba99-4ce33bbadb34",
   "metadata": {},
   "source": [
    "<img src=\"./images/1-12.png\" width=\"500\" height=\"500\"/>\n",
    "[1-12]"
   ]
  },
  {
   "cell_type": "markdown",
   "id": "ec3e6ad0-798a-49db-8219-f5479f83d334",
   "metadata": {},
   "source": [
    "##### (소프트맥스 함수)"
   ]
  },
  {
   "cell_type": "markdown",
   "id": "7f7d93c3-e481-4b03-88b6-a16bc079e38e",
   "metadata": {},
   "source": [
    "<img src=\"./images/1.6.png\" width=\"100\" height=\"100\"/>\n",
    "[1.6]"
   ]
  },
  {
   "cell_type": "markdown",
   "id": "1dece06f-0341-44bb-932f-b24dff7c2726",
   "metadata": {},
   "source": [
    "#### (교차 엔트로피 오차)"
   ]
  },
  {
   "cell_type": "markdown",
   "id": "05c32f50-a4a2-4b5f-9ae6-be1f2e517e96",
   "metadata": {
    "tags": []
   },
   "source": [
    "<img src=\"./images/1.7.png\" width=\"100\" height=\"100\"/>\n",
    "[1.7]"
   ]
  },
  {
   "cell_type": "markdown",
   "id": "347579a7-01d1-4d09-8bc9-77d1fe8b2114",
   "metadata": {},
   "source": [
    "#### (미니 배치를 고려한 교차 엔트로피 오차)"
   ]
  },
  {
   "cell_type": "markdown",
   "id": "2d164f1d-ddb0-4c1b-ab3e-559cffc85eb2",
   "metadata": {},
   "source": [
    "<img src=\"./images/1.8.png\" width=\"150\" height=\"150\"/>\n",
    "[1.8]\n"
   ]
  },
  {
   "cell_type": "markdown",
   "id": "8c8e25ce-2f58-4f59-a213-02318a8279b8",
   "metadata": {},
   "source": [
    "#### (Softmax와 Loss 계층을 합친다 : 역전파 계산이 쉬워짐)"
   ]
  },
  {
   "cell_type": "markdown",
   "id": "780eae6b-8690-4d2e-8bc7-d5a6655dbc2a",
   "metadata": {},
   "source": [
    "<img src=\"./images/1-13.png\" width=\"500\" height=\"500\"/>\n",
    "[1-13]"
   ]
  },
  {
   "cell_type": "markdown",
   "id": "2bc7db40-61ed-4db1-9142-bf2ae17e1711",
   "metadata": {},
   "source": [
    "### 1.3.2 미분과 기울기"
   ]
  },
  {
   "cell_type": "markdown",
   "id": "dbe294b1-689a-48b3-8098-efc35ca209d5",
   "metadata": {},
   "source": [
    "* 신경망 학습의 목표 : 손실을 최소화하는 매개변수를 찾기"
   ]
  },
  {
   "cell_type": "markdown",
   "id": "96e76569-4b20-4a80-b994-6ae2a515956b",
   "metadata": {},
   "source": [
    "$\\displaystyle L $ : 스칼라  $\\displaystyle \\textbf{x} $ : 벡터 <br>\n",
    "$\\displaystyle L = f(\\textbf{x})$ 이고 $ \\textbf{x} = (x_1, x_2,...,x_n)$ 일 때,<br>\n",
    "$x_i$에 대한 $L$의 미분 : $\\displaystyle \\frac {\\partial L}{\\partial x_i}$이고<br>\n",
    "\n",
    "$\\displaystyle \\frac{\\partial L}{\\partial \\textbf{x} } =  \\left\n",
    "(\\frac{\\partial L}{\\partial x_1},\\frac{\\partial L}{\\partial x_2},...,\\frac{\\partial L}{\\partial x_n} \\right )$\n"
   ]
  },
  {
   "cell_type": "markdown",
   "id": "24cef1a2-521b-40a3-95d8-004ad0423cb9",
   "metadata": {},
   "source": [
    "$\\displaystyle \\textbf{W}$ : m x n 행렬일 때, <br>\n",
    "$\\displaystyle L = g(\\textbf{W})$에 대해 <br>"
   ]
  },
  {
   "cell_type": "markdown",
   "id": "79ec7672-18ea-4620-b6d3-5aa7430add2c",
   "metadata": {},
   "source": [
    "<img src=\"./images/1.10.png\" width=\"200\" height=\"200\"/>\n"
   ]
  },
  {
   "cell_type": "markdown",
   "id": "ba34ad75-b292-4df8-bf6c-0203535bf720",
   "metadata": {},
   "source": [
    "### 1.3.3 연쇄법칙"
   ]
  },
  {
   "cell_type": "markdown",
   "id": "645bb79e-6e75-439b-b3aa-182ec5c71951",
   "metadata": {},
   "source": [
    "* 오차역전파법\n",
    "    * 연쇄 법칙 : 합성함수에 대한 미분 법칙\n",
    "    * 신경망은 여러 함수가 연결된 것이라고 볼 수 있으므로 오차역전파법은 그 여러 함수에 대해 연쇄 법칙을 효율적으로 적용하여 기울기를 산출"
   ]
  },
  {
   "cell_type": "markdown",
   "id": "b7e6cc55-8a18-408d-bbad-09e07dd670a6",
   "metadata": {},
   "source": [
    "<img src=\"./images/1.11.png\" width=\"100\" height=\"100\"/>\n",
    "[1.11]"
   ]
  },
  {
   "cell_type": "markdown",
   "id": "b40d309a-4078-42fa-95f8-95c8b6500833",
   "metadata": {},
   "source": [
    "### 1.3.4 계산 그래프"
   ]
  },
  {
   "cell_type": "markdown",
   "id": "a0cd9123-3d1d-4a2b-9059-7b65e5457b9c",
   "metadata": {},
   "source": [
    "<img src=\"./images/1-15.png\" width=\"200\" height=\"200\"/>\n",
    "[1-15]"
   ]
  },
  {
   "cell_type": "markdown",
   "id": "b66f958a-649c-4adf-8af2-e28bf493927f",
   "metadata": {},
   "source": [
    "<img src=\"./images/1-16.png\" width=\"500\" height=\"500\"/>\n",
    "[1-16]"
   ]
  },
  {
   "cell_type": "markdown",
   "id": "caa54a4b-d337-48d0-9a61-bef7a825d5a4",
   "metadata": {},
   "source": [
    "<img src=\"./images/1-17.png\" width=\"500\" height=\"500\"/>\n",
    "[1-17]"
   ]
  },
  {
   "cell_type": "markdown",
   "id": "c1fe875e-5bc1-4a41-8e92-aa39b246567d",
   "metadata": {},
   "source": [
    "<img src=\"./images/1-18.png\" width=\"400\" height=\"400\"/>\n",
    "[1-18]"
   ]
  },
  {
   "cell_type": "markdown",
   "id": "df840b75-0b21-4f9d-8cbb-483cdce35b3a",
   "metadata": {},
   "source": [
    "#### (곱셈 노드)"
   ]
  },
  {
   "cell_type": "markdown",
   "id": "1946bdcd-ae99-4630-99fa-dacb7ff8994d",
   "metadata": {},
   "source": [
    "<img src=\"./images/1-19.png\" width=\"500\" height=\"500\"/>\n",
    "[1-19]"
   ]
  },
  {
   "cell_type": "markdown",
   "id": "f13fbcfe-0061-4533-ab1e-acd7835da7a8",
   "metadata": {},
   "source": [
    "#### (분기 노드)"
   ]
  },
  {
   "cell_type": "markdown",
   "id": "aa36f967-928a-4559-a55b-976704888ad6",
   "metadata": {},
   "source": [
    "<img src=\"./images/1-20.png\" width=\"500\" height=\"500\"/>\n",
    "[1-20]"
   ]
  },
  {
   "cell_type": "markdown",
   "id": "a258d7bb-8160-4c52-9866-ccfc1a5c3aeb",
   "metadata": {},
   "source": [
    "#### (Repeat 노드) 분기 노드를 N개 노드로 일반화"
   ]
  },
  {
   "cell_type": "markdown",
   "id": "90811a38-2a53-4a76-96fa-ff4106d8234a",
   "metadata": {},
   "source": [
    "<img src=\"./images/1-21.png\" width=\"500\" height=\"500\"/>\n",
    "[1-21]"
   ]
  },
  {
   "cell_type": "code",
   "execution_count": 58,
   "id": "05ece932-9183-4a24-bad7-db0f2a408445",
   "metadata": {
    "tags": []
   },
   "outputs": [],
   "source": [
    "# 구현예시"
   ]
  },
  {
   "cell_type": "code",
   "execution_count": 59,
   "id": "27c666df-b082-459c-9c60-3bab2f01d389",
   "metadata": {
    "tags": []
   },
   "outputs": [],
   "source": [
    "import numpy as np"
   ]
  },
  {
   "cell_type": "code",
   "execution_count": 60,
   "id": "efa6ec7f-0875-4a8c-a563-12f3bc500728",
   "metadata": {
    "tags": []
   },
   "outputs": [],
   "source": [
    "D, N = 8, 7\n",
    "x = np.random.randn(1,D)\n",
    "y = np.repeat(x, N, axis= 0) ## 복제함"
   ]
  },
  {
   "cell_type": "code",
   "execution_count": 61,
   "id": "97aba292-6a61-45f0-8316-b4153d4f64a2",
   "metadata": {
    "tags": []
   },
   "outputs": [
    {
     "data": {
      "text/plain": [
       "array([[ 0.52392298,  0.86899412, -0.72400921, -0.4397237 ,  0.53191192,\n",
       "         1.57778249, -1.96893978, -1.85600151]])"
      ]
     },
     "execution_count": 61,
     "metadata": {},
     "output_type": "execute_result"
    }
   ],
   "source": [
    "x"
   ]
  },
  {
   "cell_type": "code",
   "execution_count": 62,
   "id": "7fca4d8d-b657-49f5-ac69-9edce7d1d6c4",
   "metadata": {
    "tags": []
   },
   "outputs": [
    {
     "data": {
      "text/plain": [
       "array([[ 0.52392298,  0.86899412, -0.72400921, -0.4397237 ,  0.53191192,\n",
       "         1.57778249, -1.96893978, -1.85600151],\n",
       "       [ 0.52392298,  0.86899412, -0.72400921, -0.4397237 ,  0.53191192,\n",
       "         1.57778249, -1.96893978, -1.85600151],\n",
       "       [ 0.52392298,  0.86899412, -0.72400921, -0.4397237 ,  0.53191192,\n",
       "         1.57778249, -1.96893978, -1.85600151],\n",
       "       [ 0.52392298,  0.86899412, -0.72400921, -0.4397237 ,  0.53191192,\n",
       "         1.57778249, -1.96893978, -1.85600151],\n",
       "       [ 0.52392298,  0.86899412, -0.72400921, -0.4397237 ,  0.53191192,\n",
       "         1.57778249, -1.96893978, -1.85600151],\n",
       "       [ 0.52392298,  0.86899412, -0.72400921, -0.4397237 ,  0.53191192,\n",
       "         1.57778249, -1.96893978, -1.85600151],\n",
       "       [ 0.52392298,  0.86899412, -0.72400921, -0.4397237 ,  0.53191192,\n",
       "         1.57778249, -1.96893978, -1.85600151]])"
      ]
     },
     "execution_count": 62,
     "metadata": {},
     "output_type": "execute_result"
    }
   ],
   "source": [
    "y"
   ]
  },
  {
   "cell_type": "code",
   "execution_count": 75,
   "id": "7f5e505c-9f80-4b75-acd6-18f4b5937f75",
   "metadata": {
    "tags": []
   },
   "outputs": [],
   "source": [
    "dy = np.random.randn(N, D)\n",
    "dx = np.sum(dy, axis=0, keepdims=True)"
   ]
  },
  {
   "cell_type": "code",
   "execution_count": 76,
   "id": "67c5d93c-825d-4b4a-9adc-a1eaa5b871f1",
   "metadata": {
    "tags": []
   },
   "outputs": [
    {
     "data": {
      "text/plain": [
       "array([[-1.21885848,  0.50218897, -1.33640858,  0.36324557, -0.13566862,\n",
       "        -0.03979735,  0.83631607,  0.04923945],\n",
       "       [ 0.75738157, -1.34040954, -0.32495492, -2.80306581,  0.21816735,\n",
       "         0.67977637, -0.26269876, -0.99243605],\n",
       "       [ 0.88729455,  0.68536921,  1.54074605, -0.03126707,  1.14915251,\n",
       "         0.24551681,  1.39405281,  0.59222012],\n",
       "       [-0.07617761,  0.23836602, -1.53341768,  1.31130544,  1.65766609,\n",
       "         1.15518555, -0.20843097, -0.16497338],\n",
       "       [ 0.37053573,  1.03949722, -0.88759078,  0.82490725, -1.25967134,\n",
       "        -1.35755654,  0.7307986 , -1.59173231],\n",
       "       [-1.03082256,  0.13364008, -0.65590994,  0.00929562, -2.35531691,\n",
       "        -0.26283458,  0.77995183,  0.35940215],\n",
       "       [ 0.64897791,  0.96672238, -0.39757048, -0.85317021, -0.7082987 ,\n",
       "        -0.76697872, -1.1113733 , -0.80958939]])"
      ]
     },
     "execution_count": 76,
     "metadata": {},
     "output_type": "execute_result"
    }
   ],
   "source": [
    "dy"
   ]
  },
  {
   "cell_type": "code",
   "execution_count": 77,
   "id": "42c10f77-6135-4bb1-8146-4eb988a8558d",
   "metadata": {
    "tags": []
   },
   "outputs": [
    {
     "data": {
      "text/plain": [
       "array([[ 0.33833111,  2.22537434, -3.59510634, -1.1787492 , -1.43396961,\n",
       "        -0.34668846,  2.15861628, -2.55786941]])"
      ]
     },
     "execution_count": 77,
     "metadata": {},
     "output_type": "execute_result"
    }
   ],
   "source": [
    "dx"
   ]
  },
  {
   "cell_type": "markdown",
   "id": "fd1c1fb1-48d7-4379-9915-b9cd5f8fac44",
   "metadata": {},
   "source": [
    "#### (Sum 노드)"
   ]
  },
  {
   "cell_type": "markdown",
   "id": "de872928-5223-4a7d-98bc-762eb1dcb044",
   "metadata": {},
   "source": [
    "<img src=\"./images/1-22.png\" width=\"500\" height=\"500\"/>\n",
    "[1-22]"
   ]
  },
  {
   "cell_type": "code",
   "execution_count": 78,
   "id": "fd8dc729-c521-433a-8356-5d0a474b0fb5",
   "metadata": {
    "tags": []
   },
   "outputs": [],
   "source": [
    "# 구현 예시"
   ]
  },
  {
   "cell_type": "code",
   "execution_count": 40,
   "id": "f66a8663-e4b6-42b6-ba8a-805f86ad8216",
   "metadata": {
    "tags": []
   },
   "outputs": [],
   "source": [
    "D, N = 8 ,7"
   ]
  },
  {
   "cell_type": "code",
   "execution_count": 41,
   "id": "1afa7f80-3d58-49f4-b569-adf04559c94c",
   "metadata": {
    "tags": []
   },
   "outputs": [],
   "source": [
    "x = np.random.randn(N,D)"
   ]
  },
  {
   "cell_type": "code",
   "execution_count": 42,
   "id": "0f130755-382b-4e1f-84fb-73eafbab2eb7",
   "metadata": {
    "tags": []
   },
   "outputs": [
    {
     "data": {
      "text/plain": [
       "array([[ 0.85759692, -0.91609426,  1.37265356, -0.60454383, -1.68572155,\n",
       "         1.88539746,  0.92151078,  0.89574257],\n",
       "       [ 1.91157955,  2.11727639,  0.67781817, -1.41412163,  1.05064701,\n",
       "        -0.94469163, -0.22954469, -0.5168888 ],\n",
       "       [-0.50923283, -0.66314813,  1.19723616,  0.33257567, -2.37086622,\n",
       "        -0.17818606,  0.48526746,  2.18544369],\n",
       "       [ 0.9526694 , -0.9870124 ,  0.57196106, -0.73263299,  0.41571631,\n",
       "        -0.55240609,  0.16944017, -0.50101077],\n",
       "       [-0.45633677,  0.27893291,  1.19450568,  0.02020904,  0.6664018 ,\n",
       "        -0.35011964, -1.08317795,  1.57056888],\n",
       "       [ 0.98759625,  0.41029056,  0.99652058, -0.91815167, -0.8671486 ,\n",
       "        -0.74612137,  0.41157851, -0.36271063],\n",
       "       [-0.53685705,  1.90766043,  0.45955159, -0.10691491,  0.77148695,\n",
       "         0.21009337, -0.01935291,  1.09668555]])"
      ]
     },
     "execution_count": 42,
     "metadata": {},
     "output_type": "execute_result"
    }
   ],
   "source": [
    "x"
   ]
  },
  {
   "cell_type": "code",
   "execution_count": 43,
   "id": "832fbb96-277a-4948-a7d8-f4f43ffb9f26",
   "metadata": {
    "tags": []
   },
   "outputs": [],
   "source": [
    "y = np.sum(x, axis=0, keepdims = True)"
   ]
  },
  {
   "cell_type": "code",
   "execution_count": 44,
   "id": "1945658d-8f69-47cd-9838-23b2571a419c",
   "metadata": {
    "tags": []
   },
   "outputs": [
    {
     "data": {
      "text/plain": [
       "array([[ 3.20701546,  2.1479055 ,  6.47024679, -3.42358032, -2.0194843 ,\n",
       "        -0.67603395,  0.65572136,  4.36783051]])"
      ]
     },
     "execution_count": 44,
     "metadata": {},
     "output_type": "execute_result"
    }
   ],
   "source": [
    "y"
   ]
  },
  {
   "cell_type": "code",
   "execution_count": 79,
   "id": "9e97684c-1c3a-4f02-b9a2-50d3bc9eac05",
   "metadata": {
    "tags": []
   },
   "outputs": [],
   "source": [
    "dy = np.random.randn(1,D)\n",
    "dx = np.repeat(dy,N,axis=0)"
   ]
  },
  {
   "cell_type": "markdown",
   "id": "2d23a914-4c80-456e-953b-9bfac3e8fb49",
   "metadata": {},
   "source": [
    "#### (MatMul 노드)"
   ]
  },
  {
   "cell_type": "markdown",
   "id": "7a30518e-a49d-423e-8b3e-f2db4669ad16",
   "metadata": {},
   "source": [
    "해당 내용은 1권에서 작성한 [여기](\"https://github.com/Dongyeoni/Deep-Learning-from-Scratch/blob/main/5%EC%9E%A5.ipynb\")의 5.6절을 참고하면 좋을 것 같다"
   ]
  },
  {
   "cell_type": "markdown",
   "id": "ee4dfc2f-32c2-457e-8977-fc1c2283166c",
   "metadata": {
    "tags": []
   },
   "source": [
    "$\\displaystyle \\textbf{x} : $1 X D,\n",
    "$\\textbf{W}$ : D X H, \n",
    "$\\textbf{y}$ : 1 X H <br>\n",
    "$\\displaystyle \\textbf{y = xW}$ 일 때"
   ]
  },
  {
   "cell_type": "markdown",
   "id": "43940ef0-3b9b-44ae-9fdc-9f6a7026dc99",
   "metadata": {},
   "source": [
    "<img src=\"./images/1-23.png\" width=\"300\" height=\"300\"/>\n",
    "[1-23]"
   ]
  },
  {
   "cell_type": "markdown",
   "id": "498c9ecf-62eb-49f4-b5c6-e2cbbae2a3c1",
   "metadata": {
    "tags": []
   },
   "source": [
    "$\\displaystyle \\textbf{x}$의 i 번째 원소에 대한 미분"
   ]
  },
  {
   "cell_type": "markdown",
   "id": "dcda0845-7eae-49ab-962f-6ea5259cab97",
   "metadata": {},
   "source": [
    "<img src=\"./images/1.12.png\" width=\"125\" height=\"125\"/>\n",
    "[1.12]"
   ]
  },
  {
   "cell_type": "markdown",
   "id": "4a7b3275-5a3f-42a6-ad62-2fdb351e4a4e",
   "metadata": {},
   "source": [
    "$\\displaystyle \\textbf{y} = \\textbf{xW}$ 이므로 각 $i$ 에 대해서 <br><br>\n",
    "$\\displaystyle \\frac {\\partial y_j} {\\partial x_i} = W_{ij}$ 가 성립한다\n",
    "정리하면 아래와 같다"
   ]
  },
  {
   "cell_type": "markdown",
   "id": "1904d019-310b-49cf-af69-78b80e9fc6dc",
   "metadata": {
    "tags": []
   },
   "source": [
    "<img src=\"./images/1.13.png\" width=\"200\" height=\"200\"/>\n",
    "[1.13]"
   ]
  },
  {
   "cell_type": "markdown",
   "id": "46efe4b6-77df-45ad-93e2-089b162f35dd",
   "metadata": {},
   "source": [
    "다시 생각해보자.\n",
    "$\\displaystyle \\textbf{x} : $1 X D,\n",
    "$\\textbf{W}$ : D X H, \n",
    "$\\textbf{y}$ : 1 X H 이므로<br>\n",
    "$j$ 값이 1부터 H까지라고 할 수 있다"
   ]
  },
  {
   "cell_type": "markdown",
   "id": "77273a0a-6a96-48ea-a854-bc0ddabd1bb2",
   "metadata": {
    "tags": []
   },
   "source": [
    "$\\displaystyle \\frac {\\partial L} {\\partial y_1} W_{i1} + \\frac {\\partial L} {\\partial y_2} W_{i2}+ ... \\frac {\\partial L} {\\partial y_H} W_{iH} $ <br>"
   ]
  },
  {
   "cell_type": "markdown",
   "id": "2da31eef-596b-4409-a227-609e416bf4de",
   "metadata": {
    "tags": []
   },
   "source": [
    "$\\displaystyle  \n",
    "\\frac {\\partial L} {\\partial x_i} = \n",
    "\\begin{pmatrix}\n",
    " \\frac {\\partial L}{\\partial y_1}\n",
    " & ...\n",
    " &  \\frac {\\partial L}{\\partial y_H}\n",
    "\\end{pmatrix}\n",
    "\\begin{pmatrix}\n",
    "W_{i1} \\\\ ... \\\\ W_{iH} \\\\\n",
    "\\end{pmatrix} $ <br>\n",
    "$\\displaystyle  = \\frac {\\partial L} {\\partial y} \n",
    "\\begin{pmatrix}\n",
    "W_{i1} & ... & W_{iH} \n",
    "\\end{pmatrix}^T\n",
    "$ 이다.\n"
   ]
  },
  {
   "cell_type": "markdown",
   "id": "0aefa18c-02e6-4eb3-b3dc-b0be4e3e31f3",
   "metadata": {},
   "source": [
    "해석하자면 $\\displaystyle L$을 $\\displaystyle x_i$로 편미분한 결과는\n",
    "$\\displaystyle L$을 $\\displaystyle y$로 편미분한 결과와 $\\displaystyle W$의 $i$번째 행을 transpose한 후 내적한 값과 같다. <br>\n",
    "식을 정리하면 아래와 같다.(헤깔리지 않게 대문자 W를 대신 소문자 w를 쓸 걸 그랬다...)"
   ]
  },
  {
   "cell_type": "markdown",
   "id": "abd71f05-dc1a-4a60-9152-81fa418ecb25",
   "metadata": {},
   "source": [
    "<img src=\"./images/1.14.png\" width=\"125\" height=\"125\"/>\n",
    "[1.14]"
   ]
  },
  {
   "cell_type": "markdown",
   "id": "94a2ea1a-60b8-4970-b547-cd90d905acdf",
   "metadata": {},
   "source": [
    "### (형상 확인하기)"
   ]
  },
  {
   "cell_type": "markdown",
   "id": "cc2020ff-febe-4cd0-9387-325358df7a54",
   "metadata": {},
   "source": [
    "<img src=\"./images/1-24.png\" width=\"300\" height=\"300\"/>\n",
    "[1-24]"
   ]
  },
  {
   "cell_type": "code",
   "execution_count": null,
   "id": "1a46ab53-efd1-42e8-9377-385eb6f35111",
   "metadata": {},
   "outputs": [],
   "source": []
  }
 ],
 "metadata": {
  "kernelspec": {
   "display_name": "Python 3 (ipykernel)",
   "language": "python",
   "name": "python3"
  },
  "language_info": {
   "codemirror_mode": {
    "name": "ipython",
    "version": 3
   },
   "file_extension": ".py",
   "mimetype": "text/x-python",
   "name": "python",
   "nbconvert_exporter": "python",
   "pygments_lexer": "ipython3",
   "version": "3.11.3"
  }
 },
 "nbformat": 4,
 "nbformat_minor": 5
}
