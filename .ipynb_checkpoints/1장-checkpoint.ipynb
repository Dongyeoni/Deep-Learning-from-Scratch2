{
 "cells": [
  {
   "cell_type": "markdown",
   "id": "dcb9e218-81c3-4034-8730-50430fdb4139",
   "metadata": {},
   "source": [
    "# Chapter1. 신경망 복습"
   ]
  },
  {
   "cell_type": "markdown",
   "id": "e059d62e-4dc5-4ada-a7e6-51d760f5b9db",
   "metadata": {},
   "source": [
    "## 1.1 수학과 파이썬 복습"
   ]
  },
  {
   "cell_type": "markdown",
   "id": "cef2e7ff-0e7a-44e4-abb7-4e15728f1c7f",
   "metadata": {},
   "source": [
    "### 1.1.1 벡터와 행렬"
   ]
  },
  {
   "cell_type": "markdown",
   "id": "cb18c32e-19b3-4c85-83b4-469054b90c95",
   "metadata": {},
   "source": [
    "* 벡터 : 크기와 방향을 가진 양\n",
    "* 행렬 : 숫자가 2차원 형태로 늘어선 것"
   ]
  },
  {
   "cell_type": "markdown",
   "id": "ea2bece7-e5f7-438f-9663-2387f3c2ea56",
   "metadata": {},
   "source": [
    "<img src=\"./images/1-1.png\" width=\"300\" height=\"300\"/>\n",
    "[1-1]"
   ]
  },
  {
   "cell_type": "markdown",
   "id": "4714418b-1f4c-4605-9b2a-d62d22a8fd91",
   "metadata": {},
   "source": [
    "* 텐서 : 벡터와 행렬을 확장하여 숫자 집합을 N차원으로 표현"
   ]
  },
  {
   "cell_type": "markdown",
   "id": "80da8479-8b51-4990-9887-58931fcf7a88",
   "metadata": {},
   "source": [
    "<img src=\"./images/1-2.png\" width=\"300\" height=\"300\"/>\n",
    "[1-2]"
   ]
  },
  {
   "cell_type": "code",
   "execution_count": 1,
   "id": "af36eb22-55ee-4ba7-80c4-92daaf300871",
   "metadata": {
    "tags": []
   },
   "outputs": [],
   "source": [
    "import numpy as np"
   ]
  },
  {
   "cell_type": "code",
   "execution_count": 2,
   "id": "703606d6-4a37-4848-889d-452c727cbc9c",
   "metadata": {
    "tags": []
   },
   "outputs": [],
   "source": [
    "x = np.array([1,2,3])"
   ]
  },
  {
   "cell_type": "code",
   "execution_count": 3,
   "id": "ce2029b0-0e40-4e77-b013-cb9158097732",
   "metadata": {
    "tags": []
   },
   "outputs": [
    {
     "data": {
      "text/plain": [
       "numpy.ndarray"
      ]
     },
     "execution_count": 3,
     "metadata": {},
     "output_type": "execute_result"
    }
   ],
   "source": [
    "x.__class__"
   ]
  },
  {
   "cell_type": "code",
   "execution_count": 4,
   "id": "7a7741af-ba1b-479d-8ea8-1d61153a5ce7",
   "metadata": {
    "tags": []
   },
   "outputs": [
    {
     "data": {
      "text/plain": [
       "(3,)"
      ]
     },
     "execution_count": 4,
     "metadata": {},
     "output_type": "execute_result"
    }
   ],
   "source": [
    "x.shape"
   ]
  },
  {
   "cell_type": "code",
   "execution_count": 5,
   "id": "3ce3b118-a9e8-44bb-a707-7338a25d2cc2",
   "metadata": {
    "tags": []
   },
   "outputs": [
    {
     "data": {
      "text/plain": [
       "1"
      ]
     },
     "execution_count": 5,
     "metadata": {},
     "output_type": "execute_result"
    }
   ],
   "source": [
    "x.ndim"
   ]
  },
  {
   "cell_type": "code",
   "execution_count": 6,
   "id": "b02c7f24-5d70-462e-a036-ab07ffd8d343",
   "metadata": {
    "tags": []
   },
   "outputs": [],
   "source": [
    "W = np.array([[1,2,3],[4,5,6]])"
   ]
  },
  {
   "cell_type": "code",
   "execution_count": 7,
   "id": "11f3b484-0dbd-411a-8766-f4b38e560e62",
   "metadata": {
    "tags": []
   },
   "outputs": [
    {
     "data": {
      "text/plain": [
       "(2, 3)"
      ]
     },
     "execution_count": 7,
     "metadata": {},
     "output_type": "execute_result"
    }
   ],
   "source": [
    "W.shape"
   ]
  },
  {
   "cell_type": "code",
   "execution_count": 8,
   "id": "431d5d82-716c-4b14-b47c-5b11f1f29948",
   "metadata": {
    "tags": []
   },
   "outputs": [
    {
     "data": {
      "text/plain": [
       "2"
      ]
     },
     "execution_count": 8,
     "metadata": {},
     "output_type": "execute_result"
    }
   ],
   "source": [
    "W.ndim"
   ]
  },
  {
   "cell_type": "markdown",
   "id": "1dead739-119e-40c3-bead-db2f3bef0866",
   "metadata": {},
   "source": [
    "### 1.1.2 행렬의 원소별 연산"
   ]
  },
  {
   "cell_type": "code",
   "execution_count": 9,
   "id": "5df2ed2a-738c-4b4f-8110-73371cc9e446",
   "metadata": {
    "tags": []
   },
   "outputs": [
    {
     "data": {
      "text/plain": [
       "array([[ 1,  3,  5],\n",
       "       [ 7,  9, 11]])"
      ]
     },
     "execution_count": 9,
     "metadata": {},
     "output_type": "execute_result"
    }
   ],
   "source": [
    "W = np.array([[1,2,3],[4,5,6]])\n",
    "X = np.array([[0,1,2],[3,4,5]])\n",
    "W + X"
   ]
  },
  {
   "cell_type": "code",
   "execution_count": 10,
   "id": "d4cb3c13-c0a9-4bad-a081-ee14d9547322",
   "metadata": {
    "tags": []
   },
   "outputs": [
    {
     "data": {
      "text/plain": [
       "array([[ 0,  2,  6],\n",
       "       [12, 20, 30]])"
      ]
     },
     "execution_count": 10,
     "metadata": {},
     "output_type": "execute_result"
    }
   ],
   "source": [
    "W * X # 행렬 같은 자리별 곱셈이 이뤄짐"
   ]
  },
  {
   "cell_type": "markdown",
   "id": "a0b5c40f-3d1d-435d-846b-afe475090e24",
   "metadata": {},
   "source": [
    "### 1.1.3 브로드캐스트"
   ]
  },
  {
   "cell_type": "code",
   "execution_count": 11,
   "id": "6e71868a-8ce1-46ba-90af-d16e2438b91c",
   "metadata": {
    "tags": []
   },
   "outputs": [
    {
     "data": {
      "text/plain": [
       "array([[10, 20],\n",
       "       [30, 40]])"
      ]
     },
     "execution_count": 11,
     "metadata": {},
     "output_type": "execute_result"
    }
   ],
   "source": [
    "A = np.array([[1,2],[3,4]])\n",
    "A * 10"
   ]
  },
  {
   "cell_type": "code",
   "execution_count": 12,
   "id": "57f23524-9028-4df0-8c97-db5e0127432d",
   "metadata": {
    "tags": []
   },
   "outputs": [],
   "source": [
    "A = np.array([[1,2],[3,4]])\n",
    "b = np.array([10, 20])"
   ]
  },
  {
   "cell_type": "code",
   "execution_count": 13,
   "id": "4e017f5b-3812-49be-8c4e-abe5b1545d57",
   "metadata": {
    "tags": []
   },
   "outputs": [
    {
     "data": {
      "text/plain": [
       "array([[10, 40],\n",
       "       [30, 80]])"
      ]
     },
     "execution_count": 13,
     "metadata": {},
     "output_type": "execute_result"
    }
   ],
   "source": [
    "A * b"
   ]
  },
  {
   "cell_type": "markdown",
   "id": "5806ac28-fdc1-4b23-912c-36686101001d",
   "metadata": {},
   "source": [
    "### 1.1.4 벡터의 내적과 행렬의 곱"
   ]
  },
  {
   "cell_type": "markdown",
   "id": "34b6c483-933b-40fe-9ef7-f293ec64cdd1",
   "metadata": {},
   "source": [
    "<img src=\"./images/1.1.png\" width=\"200\" height=\"200\"/>\n",
    "[1.1]"
   ]
  },
  {
   "cell_type": "markdown",
   "id": "592c631b-00dc-4753-a265-b7fc3b55e336",
   "metadata": {},
   "source": [
    "<img src=\"./images/1-5.png\" width=\"300\" height=\"300\"/>\n",
    "[1-5]"
   ]
  },
  {
   "cell_type": "code",
   "execution_count": 14,
   "id": "a5517a87-69b7-4334-b659-645d6c5aee52",
   "metadata": {
    "tags": []
   },
   "outputs": [
    {
     "data": {
      "text/plain": [
       "32"
      ]
     },
     "execution_count": 14,
     "metadata": {},
     "output_type": "execute_result"
    }
   ],
   "source": [
    "# 내적\n",
    "a = np.array([1,2,3])\n",
    "b = np.array([4,5,6])\n",
    "np.dot(a,b)"
   ]
  },
  {
   "cell_type": "code",
   "execution_count": 15,
   "id": "fe00966d-92d2-4d83-b1d4-cccad6dc4e46",
   "metadata": {
    "tags": []
   },
   "outputs": [
    {
     "data": {
      "text/plain": [
       "array([[19, 22],\n",
       "       [43, 50]])"
      ]
     },
     "execution_count": 15,
     "metadata": {},
     "output_type": "execute_result"
    }
   ],
   "source": [
    "# 행렬곱\n",
    "A = np.array([[1,2],[3,4]])\n",
    "B = np.array([[5,6],[7,8]])\n",
    "np.matmul(A,B) # matrix mul"
   ]
  },
  {
   "cell_type": "code",
   "execution_count": 16,
   "id": "840a2977-5f48-48d8-bae2-a52080d95c6b",
   "metadata": {
    "tags": []
   },
   "outputs": [
    {
     "data": {
      "text/plain": [
       "array([[19, 22],\n",
       "       [43, 50]])"
      ]
     },
     "execution_count": 16,
     "metadata": {},
     "output_type": "execute_result"
    }
   ],
   "source": [
    "np.dot(A,B) # matrix mul"
   ]
  },
  {
   "cell_type": "markdown",
   "id": "45c72604-8991-46d7-8956-eb8f99c259bb",
   "metadata": {},
   "source": [
    "#### 잠깐! (dot 과 matmul의 차이)"
   ]
  },
  {
   "cell_type": "markdown",
   "id": "9ac7aab0-0ab2-48a2-969d-629742c925af",
   "metadata": {},
   "source": [
    "* 2차원 이하의 행렬곱에서는 결과 동일\n",
    "* 3차원 이상의 행렬끼리 곱할 때 다른 결과를 보여줌\n",
    "* np.dot(a, b)는 a의 마지막 axis와 b의 마지막에서 두번째 axis끼리 곱한 결과를 반영하고, np.matmul(a, b)는 a의 마지막 두 axis 차원이 (n, k), b의 마지막 두 axis 차원이 (k, m) 일 때, 이 사이에서만 곱하여 (n, m) 차원이 되도록 반영\n"
   ]
  },
  {
   "cell_type": "code",
   "execution_count": 17,
   "id": "ca78a03e-4b5c-461c-8ebd-7f492c58f728",
   "metadata": {
    "tags": []
   },
   "outputs": [],
   "source": [
    "A = np.arange(2*3*4).reshape((2,3,4))\n",
    "B = np.arange(2*3*4).reshape((2,4,3))"
   ]
  },
  {
   "cell_type": "code",
   "execution_count": 18,
   "id": "cea43a86-98e7-4eed-8e4a-44f188b50460",
   "metadata": {
    "tags": []
   },
   "outputs": [
    {
     "data": {
      "text/plain": [
       "array([[[ 0,  1,  2,  3],\n",
       "        [ 4,  5,  6,  7],\n",
       "        [ 8,  9, 10, 11]],\n",
       "\n",
       "       [[12, 13, 14, 15],\n",
       "        [16, 17, 18, 19],\n",
       "        [20, 21, 22, 23]]])"
      ]
     },
     "execution_count": 18,
     "metadata": {},
     "output_type": "execute_result"
    }
   ],
   "source": [
    "A"
   ]
  },
  {
   "cell_type": "code",
   "execution_count": 19,
   "id": "ae0b9114-cad8-4fc3-8c12-7b7ced486fc4",
   "metadata": {
    "tags": []
   },
   "outputs": [
    {
     "data": {
      "text/plain": [
       "array([[[ 0,  1,  2],\n",
       "        [ 3,  4,  5],\n",
       "        [ 6,  7,  8],\n",
       "        [ 9, 10, 11]],\n",
       "\n",
       "       [[12, 13, 14],\n",
       "        [15, 16, 17],\n",
       "        [18, 19, 20],\n",
       "        [21, 22, 23]]])"
      ]
     },
     "execution_count": 19,
     "metadata": {},
     "output_type": "execute_result"
    }
   ],
   "source": [
    "B"
   ]
  },
  {
   "cell_type": "code",
   "execution_count": 20,
   "id": "714db266-095c-4dbb-837a-78d196f76696",
   "metadata": {
    "tags": []
   },
   "outputs": [
    {
     "data": {
      "text/plain": [
       "(2, 3, 2, 3)"
      ]
     },
     "execution_count": 20,
     "metadata": {},
     "output_type": "execute_result"
    }
   ],
   "source": [
    "np.dot(A,B).shape"
   ]
  },
  {
   "cell_type": "code",
   "execution_count": 21,
   "id": "201c8deb-dbd8-4830-8a8a-b5782e29bf53",
   "metadata": {
    "tags": []
   },
   "outputs": [
    {
     "data": {
      "text/plain": [
       "(2, 3, 3)"
      ]
     },
     "execution_count": 21,
     "metadata": {},
     "output_type": "execute_result"
    }
   ],
   "source": [
    "np.matmul(A,B).shape"
   ]
  },
  {
   "cell_type": "code",
   "execution_count": 22,
   "id": "f4edb8ef-4626-49bc-b4de-579678262a4e",
   "metadata": {
    "tags": []
   },
   "outputs": [
    {
     "data": {
      "text/plain": [
       "array([[[[  42,   48,   54],\n",
       "         [ 114,  120,  126]],\n",
       "\n",
       "        [[ 114,  136,  158],\n",
       "         [ 378,  400,  422]],\n",
       "\n",
       "        [[ 186,  224,  262],\n",
       "         [ 642,  680,  718]]],\n",
       "\n",
       "\n",
       "       [[[ 258,  312,  366],\n",
       "         [ 906,  960, 1014]],\n",
       "\n",
       "        [[ 330,  400,  470],\n",
       "         [1170, 1240, 1310]],\n",
       "\n",
       "        [[ 402,  488,  574],\n",
       "         [1434, 1520, 1606]]]])"
      ]
     },
     "execution_count": 22,
     "metadata": {},
     "output_type": "execute_result"
    }
   ],
   "source": [
    "np.dot(A,B)"
   ]
  },
  {
   "cell_type": "code",
   "execution_count": 23,
   "id": "fa3c90d0-5d63-40d5-b0bc-ea7d6c37bfdd",
   "metadata": {
    "tags": []
   },
   "outputs": [
    {
     "data": {
      "text/plain": [
       "array([[[  42,   48,   54],\n",
       "        [ 114,  136,  158],\n",
       "        [ 186,  224,  262]],\n",
       "\n",
       "       [[ 906,  960, 1014],\n",
       "        [1170, 1240, 1310],\n",
       "        [1434, 1520, 1606]]])"
      ]
     },
     "execution_count": 23,
     "metadata": {},
     "output_type": "execute_result"
    }
   ],
   "source": [
    "np.matmul(A,B)"
   ]
  },
  {
   "cell_type": "markdown",
   "id": "aa00f317-e380-458b-b56d-cbc7465b8464",
   "metadata": {},
   "source": [
    "### 1.1.5 행렬 형상 확인"
   ]
  },
  {
   "cell_type": "markdown",
   "id": "e5338232-700a-4c37-9b84-6a373a35a47e",
   "metadata": {},
   "source": [
    "<img src=\"./images/1-6.png\" width=\"400\" height=\"400\"/>\n",
    "[1-6]"
   ]
  },
  {
   "cell_type": "markdown",
   "id": "ff5b5a6e-5123-439b-b25d-f69ecb1e8e89",
   "metadata": {},
   "source": [
    "## 1.2 신경망의 추론"
   ]
  },
  {
   "cell_type": "markdown",
   "id": "cbfd1641-64b8-49bf-adce-91e81012cf81",
   "metadata": {},
   "source": [
    "### 1.2.1 신경망 추론 전체 그림"
   ]
  },
  {
   "cell_type": "markdown",
   "id": "14c383c4-877f-4bc2-abd5-57ba5301c3a0",
   "metadata": {},
   "source": [
    "<img src=\"./images/1-7.png\" width=\"300\" height=\"300\"/>\n",
    "[1-7]"
   ]
  },
  {
   "cell_type": "markdown",
   "id": "6133f96e-2db0-4e52-94ff-f236f15d1f30",
   "metadata": {},
   "source": [
    "* 완전연결계층 : 인전합는 츠으이 모든 뉴런과 연결되어 있는 신경망"
   ]
  },
  {
   "cell_type": "markdown",
   "id": "2fe4a44f-4386-4300-b3dd-8f2b0e85bc1e",
   "metadata": {},
   "source": [
    "#### (수식) 입력 데이터 : $(x_1, x_2)$ 가중치 : $w_{11}, w_{12}$ 편향 : $b_1$"
   ]
  },
  {
   "cell_type": "markdown",
   "id": "dd0524bb-13e5-4220-87dc-7c33eebac9ee",
   "metadata": {},
   "source": [
    "<img src=\"./images/1.2.png\" width=\"150\" height=\"150\"/>\n",
    "[1.2]"
   ]
  },
  {
   "cell_type": "markdown",
   "id": "527ae1b5-2afe-481d-afbb-363778848d72",
   "metadata": {},
   "source": [
    "(예시)"
   ]
  },
  {
   "cell_type": "markdown",
   "id": "76122c9f-0bfe-44fa-897e-e97a408ce867",
   "metadata": {},
   "source": [
    "<img src=\"./images/1.3.png\" width=\"400\" height=\"400\"/>\n",
    "[1.3]"
   ]
  },
  {
   "cell_type": "markdown",
   "id": "c5adc986-c9d9-4484-8d9b-4d412fd8f8a7",
   "metadata": {},
   "source": [
    "<img src=\"./images/1.4.png\" width=\"100\" height=\"100\"/>\n",
    "[1.4]"
   ]
  },
  {
   "cell_type": "markdown",
   "id": "706cef3e-fdb3-4997-90b5-b13a79556785",
   "metadata": {
    "tags": []
   },
   "source": [
    "#### (입력데이터가 1개)"
   ]
  },
  {
   "cell_type": "markdown",
   "id": "728b22a8-92d3-43b6-8956-c29efdc9d337",
   "metadata": {},
   "source": [
    "<img src=\"./images/1-8.png\" width=\"300\" height=\"300\"/>\n",
    "[1-8]"
   ]
  },
  {
   "cell_type": "markdown",
   "id": "8660811b-04a3-470d-872d-7e6232cbea2d",
   "metadata": {},
   "source": [
    "#### (1개의 입력데이터가 아니라 N개의 입력데이터라면)"
   ]
  },
  {
   "cell_type": "markdown",
   "id": "3593e9fa-04b0-435d-9bda-fe618c483e3c",
   "metadata": {},
   "source": [
    "<img src=\"./images/1-9.png\" width=\"300\" height=\"300\"/>\n",
    "[1-9]"
   ]
  },
  {
   "cell_type": "code",
   "execution_count": 24,
   "id": "a53efe68-19f7-4815-b139-ea3004c95034",
   "metadata": {
    "tags": []
   },
   "outputs": [],
   "source": [
    "## 완전연결계층 미니배치"
   ]
  },
  {
   "cell_type": "code",
   "execution_count": 25,
   "id": "34972e44-fec3-4d67-9e9d-457365b330aa",
   "metadata": {
    "tags": []
   },
   "outputs": [],
   "source": [
    "import numpy as np\n",
    "W1 = np.random.randn(2,4)\n",
    "b1 = np.random.randn(4)\n",
    "x = np.random.randn(10, 2)\n",
    "h = np.matmul(x, W1) + b1"
   ]
  },
  {
   "cell_type": "code",
   "execution_count": 26,
   "id": "77fcd985-883c-4318-b5d4-124d0e9ae435",
   "metadata": {
    "tags": []
   },
   "outputs": [
    {
     "data": {
      "text/plain": [
       "array([[ 1.34305574,  0.41253056,  1.17292385, -0.32953274],\n",
       "       [-1.35952875,  0.27462458,  1.221535  , -0.32332931],\n",
       "       [ 2.55740572,  0.37186856,  1.0654311 , -0.34309867],\n",
       "       [ 1.13130738, -0.03402714,  0.81306313, -0.37481217],\n",
       "       [-1.64814735,  1.08746264,  1.91739391, -0.23575072],\n",
       "       [-0.24625871,  0.98078358,  1.74344499, -0.2576857 ],\n",
       "       [ 1.09650525,  0.49464295,  1.25638736, -0.31902154],\n",
       "       [ 1.85516481,  1.45784385,  2.01429866, -0.22366739],\n",
       "       [ 2.62806579, -0.08401864,  0.6806778 , -0.39151966],\n",
       "       [-0.21612297, -0.21296684,  0.74534235, -0.3832915 ]])"
      ]
     },
     "execution_count": 26,
     "metadata": {},
     "output_type": "execute_result"
    }
   ],
   "source": [
    "h"
   ]
  },
  {
   "cell_type": "markdown",
   "id": "cea9dc7b-8cb4-4014-8069-cb22e31f5721",
   "metadata": {},
   "source": [
    "#### (완전연결계층에 의한 변환 : 선형 변환 / 비선형 효과 부여 : 활성화 함수)"
   ]
  },
  {
   "cell_type": "markdown",
   "id": "b53101bd-c62d-4b9f-b775-40906dc75238",
   "metadata": {
    "tags": []
   },
   "source": [
    "* 예시 \n",
    "    * 시그모이드 함수"
   ]
  },
  {
   "cell_type": "markdown",
   "id": "0d230a49-e391-4bc7-9857-db7ec90bb6a0",
   "metadata": {},
   "source": [
    "<img src=\"./images/1.5.png\" width=\"200\" height=\"200\"/>\n",
    "[1.5]"
   ]
  },
  {
   "cell_type": "markdown",
   "id": "1b072d18-6c04-4a1f-bdbe-2c080ea077a8",
   "metadata": {},
   "source": [
    "<img src=\"./images/1-10.png\" width=\"300\" height=\"300\"/>\n",
    "[1-10]"
   ]
  },
  {
   "cell_type": "code",
   "execution_count": 27,
   "id": "721aea0e-0fcb-4764-8ad5-06bb68430479",
   "metadata": {
    "tags": []
   },
   "outputs": [],
   "source": [
    "## 시그모이드 함수 구현"
   ]
  },
  {
   "cell_type": "code",
   "execution_count": 28,
   "id": "1d1fdb28-01df-49ae-91b2-5e970a20c830",
   "metadata": {
    "tags": []
   },
   "outputs": [],
   "source": [
    "def sigmoid(x):\n",
    "    return 1 / (1 + np.exp(-x))"
   ]
  },
  {
   "cell_type": "code",
   "execution_count": 29,
   "id": "ec072555-8146-4c66-8a50-afbdc31a73d3",
   "metadata": {
    "tags": []
   },
   "outputs": [],
   "source": [
    "a = sigmoid(h)"
   ]
  },
  {
   "cell_type": "code",
   "execution_count": 30,
   "id": "0571772c-8bc7-4a5f-b662-dfa7b6228d4a",
   "metadata": {
    "tags": []
   },
   "outputs": [
    {
     "data": {
      "text/plain": [
       "array([[0.79299201, 0.6016945 , 0.76367311, 0.41835432],\n",
       "       [0.2043169 , 0.56822788, 0.77233357, 0.41986459],\n",
       "       [0.92806947, 0.59191041, 0.74372707, 0.41505697],\n",
       "       [0.75608009, 0.49149404, 0.69276185, 0.40737875],\n",
       "       [0.1613595 , 0.74790362, 0.87184754, 0.44133378],\n",
       "       [0.43874457, 0.72726367, 0.85112411, 0.4359327 ],\n",
       "       [0.74960472, 0.62119958, 0.77840359, 0.42091423],\n",
       "       [0.86473237, 0.81120268, 0.88229019, 0.44431511],\n",
       "       [0.93264615, 0.47900769, 0.66388996, 0.40335153],\n",
       "       [0.44617859, 0.44695861, 0.67816297, 0.40533327]])"
      ]
     },
     "execution_count": 30,
     "metadata": {},
     "output_type": "execute_result"
    }
   ],
   "source": [
    "a"
   ]
  },
  {
   "cell_type": "markdown",
   "id": "43c89ca9-a0fa-4104-9007-302e6066cfed",
   "metadata": {},
   "source": [
    "### 1.2.2 계층으로 클래스화 및 순전파 구현"
   ]
  },
  {
   "cell_type": "markdown",
   "id": "3b1f701a-d9ac-4aaa-bfd0-81a6a58c6392",
   "metadata": {},
   "source": [
    "* (구현 규칙)\n",
    "    * 모든 계층은 forward(), backward() 메서드를 가진다\n",
    "        * forward : 순전파 \n",
    "        * backward : 역전파\n",
    "    * 모든 계층은 인스턴스 변수인 params, grads를 가진다\n",
    "        * params : 가중치와 편향 등 매개변수 담는 리스트\n",
    "        * grads : params에 저장된 각 매개변수에 대응하여 해당 매개변수의 기울기를 보관하는 리스트"
   ]
  },
  {
   "cell_type": "markdown",
   "id": "16a87889-cf26-4c3a-b78f-8291e9378cef",
   "metadata": {},
   "source": [
    "#### (이 절에서는 순전파만 구현)"
   ]
  },
  {
   "cell_type": "code",
   "execution_count": 31,
   "id": "d919ec6b-8b6d-4e3f-9026-059a7eeb19da",
   "metadata": {
    "tags": []
   },
   "outputs": [],
   "source": [
    "# Sigmoid 계층 구현"
   ]
  },
  {
   "cell_type": "code",
   "execution_count": 32,
   "id": "2ed3c7e4-201c-4236-bf98-959b24a2ef4f",
   "metadata": {
    "tags": []
   },
   "outputs": [],
   "source": [
    "import numpy as np"
   ]
  },
  {
   "cell_type": "code",
   "execution_count": 41,
   "id": "1f22232c-b765-4583-884c-c3556938bfbf",
   "metadata": {
    "tags": []
   },
   "outputs": [],
   "source": [
    "class Sigmoid:\n",
    "    def __init__(self):\n",
    "        self.params = []\n",
    "    \n",
    "    def forward(self, x):\n",
    "        return 1 / (1 + np.exp(-x))"
   ]
  },
  {
   "cell_type": "code",
   "execution_count": 40,
   "id": "de15db48-7516-4226-960d-86338dafe4f5",
   "metadata": {
    "tags": []
   },
   "outputs": [],
   "source": [
    "class Affine:\n",
    "    def __init__(self, W, b):\n",
    "        self.params = [W, b]\n",
    "        \n",
    "    def forward(self, x):\n",
    "        W, b = self.params.W, self,params.b ### 리스트는 사이즈가 같을 때 각각의 번지의 값을 바로 넣을 수 있다\n",
    "        out = np.matmul(x,W) + b\n",
    "        return out"
   ]
  },
  {
   "cell_type": "markdown",
   "id": "5f031f13-b073-4aba-86ef-d24bdb5ef42a",
   "metadata": {},
   "source": [
    "<img src=\"./images/1-11.png\" width=\"400\" height=\"400\"/>\n",
    "[1-11]"
   ]
  },
  {
   "cell_type": "code",
   "execution_count": 57,
   "id": "0a8d427e-6744-4796-97c5-c9cec8147f90",
   "metadata": {
    "tags": []
   },
   "outputs": [],
   "source": [
    "class TwoLayerNet:\n",
    "    def __init__(self, input_size, hidden_size, output_size):\n",
    "        I, H, O = input_size, hidden_size, output_size\n",
    "        \n",
    "        # 가중치와 편향 초기화\n",
    "        W1 = np.random.randn(I,H)\n",
    "        b1 = np.random.randn(H)\n",
    "        W2 = np.random.randn(H,O)\n",
    "        b2 = np.random.randn(O)\n",
    "        \n",
    "        # 계층 생성\n",
    "        self.layers = [Affine(W1, b1), Sigmoid(), Affine(W2, b2)]\n",
    "        \n",
    "        # 모든 가중치를 리스트에 모은다\n",
    "        self.params = []\n",
    "        for layer in self.layers:\n",
    "            self.params += lalyer.params ## extend와 같은 듯\n",
    "            \n",
    "        def predict(self, x):\n",
    "            for layer in self.layers:\n",
    "                x = layer.forward(x)\n",
    "                \n",
    "            return x"
   ]
  },
  {
   "cell_type": "code",
   "execution_count": null,
   "id": "25157645-8e90-4423-bd41-7a708655d821",
   "metadata": {},
   "outputs": [],
   "source": []
  },
  {
   "cell_type": "code",
   "execution_count": null,
   "id": "5238adc6-17da-445f-bf3b-226585abc44a",
   "metadata": {},
   "outputs": [],
   "source": []
  }
 ],
 "metadata": {
  "kernelspec": {
   "display_name": "Python 3 (ipykernel)",
   "language": "python",
   "name": "python3"
  },
  "language_info": {
   "codemirror_mode": {
    "name": "ipython",
    "version": 3
   },
   "file_extension": ".py",
   "mimetype": "text/x-python",
   "name": "python",
   "nbconvert_exporter": "python",
   "pygments_lexer": "ipython3",
   "version": "3.11.3"
  }
 },
 "nbformat": 4,
 "nbformat_minor": 5
}
